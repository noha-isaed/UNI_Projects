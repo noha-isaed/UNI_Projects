{
 "cells": [
  {
   "cell_type": "code",
   "execution_count": 9,
   "metadata": {},
   "outputs": [],
   "source": [
    "import numpy as np\n",
    "import pandas as pd\n",
    "\n",
    "freq= 1.5\n",
    "\n",
    "x=np.arange(0,10,0.1)\n",
    "y=np.sin(x*freq)\n",
    "z=np.cos(x*freq)\n",
    "\n",
    "df = pd.DataFrame({'Time' :x , 'YVals' :y ,'ZVals' :z})"
   ]
  },
  {
   "cell_type": "code",
   "execution_count": 10,
   "metadata": {},
   "outputs": [
    {
     "data": {
      "text/plain": [
       "0     0.0\n",
       "1     0.1\n",
       "2     0.2\n",
       "3     0.3\n",
       "4     0.4\n",
       "5     0.5\n",
       "6     0.6\n",
       "7     0.7\n",
       "8     0.8\n",
       "9     0.9\n",
       "10    1.0\n",
       "11    1.1\n",
       "12    1.2\n",
       "13    1.3\n",
       "14    1.4\n",
       "15    1.5\n",
       "16    1.6\n",
       "17    1.7\n",
       "18    1.8\n",
       "19    1.9\n",
       "20    2.0\n",
       "21    2.1\n",
       "22    2.2\n",
       "23    2.3\n",
       "24    2.4\n",
       "25    2.5\n",
       "26    2.6\n",
       "27    2.7\n",
       "28    2.8\n",
       "29    2.9\n",
       "     ... \n",
       "70    7.0\n",
       "71    7.1\n",
       "72    7.2\n",
       "73    7.3\n",
       "74    7.4\n",
       "75    7.5\n",
       "76    7.6\n",
       "77    7.7\n",
       "78    7.8\n",
       "79    7.9\n",
       "80    8.0\n",
       "81    8.1\n",
       "82    8.2\n",
       "83    8.3\n",
       "84    8.4\n",
       "85    8.5\n",
       "86    8.6\n",
       "87    8.7\n",
       "88    8.8\n",
       "89    8.9\n",
       "90    9.0\n",
       "91    9.1\n",
       "92    9.2\n",
       "93    9.3\n",
       "94    9.4\n",
       "95    9.5\n",
       "96    9.6\n",
       "97    9.7\n",
       "98    9.8\n",
       "99    9.9\n",
       "Name: Time, Length: 100, dtype: float64"
      ]
     },
     "execution_count": 10,
     "metadata": {},
     "output_type": "execute_result"
    }
   ],
   "source": [
    "df.Time"
   ]
  },
  {
   "cell_type": "code",
   "execution_count": 11,
   "metadata": {},
   "outputs": [
    {
     "data": {
      "text/html": [
       "<div>\n",
       "<style scoped>\n",
       "    .dataframe tbody tr th:only-of-type {\n",
       "        vertical-align: middle;\n",
       "    }\n",
       "\n",
       "    .dataframe tbody tr th {\n",
       "        vertical-align: top;\n",
       "    }\n",
       "\n",
       "    .dataframe thead th {\n",
       "        text-align: right;\n",
       "    }\n",
       "</style>\n",
       "<table border=\"1\" class=\"dataframe\">\n",
       "  <thead>\n",
       "    <tr style=\"text-align: right;\">\n",
       "      <th></th>\n",
       "      <th>Time</th>\n",
       "      <th>YVals</th>\n",
       "      <th>ZVals</th>\n",
       "    </tr>\n",
       "  </thead>\n",
       "  <tbody>\n",
       "    <tr>\n",
       "      <th>0</th>\n",
       "      <td>0.0</td>\n",
       "      <td>0.000000</td>\n",
       "      <td>1.000000</td>\n",
       "    </tr>\n",
       "    <tr>\n",
       "      <th>1</th>\n",
       "      <td>0.1</td>\n",
       "      <td>0.149438</td>\n",
       "      <td>0.988771</td>\n",
       "    </tr>\n",
       "    <tr>\n",
       "      <th>2</th>\n",
       "      <td>0.2</td>\n",
       "      <td>0.295520</td>\n",
       "      <td>0.955336</td>\n",
       "    </tr>\n",
       "    <tr>\n",
       "      <th>3</th>\n",
       "      <td>0.3</td>\n",
       "      <td>0.434966</td>\n",
       "      <td>0.900447</td>\n",
       "    </tr>\n",
       "    <tr>\n",
       "      <th>4</th>\n",
       "      <td>0.4</td>\n",
       "      <td>0.564642</td>\n",
       "      <td>0.825336</td>\n",
       "    </tr>\n",
       "  </tbody>\n",
       "</table>\n",
       "</div>"
      ],
      "text/plain": [
       "   Time     YVals     ZVals\n",
       "0   0.0  0.000000  1.000000\n",
       "1   0.1  0.149438  0.988771\n",
       "2   0.2  0.295520  0.955336\n",
       "3   0.3  0.434966  0.900447\n",
       "4   0.4  0.564642  0.825336"
      ]
     },
     "execution_count": 11,
     "metadata": {},
     "output_type": "execute_result"
    }
   ],
   "source": [
    "data = df[['Time' ,'YVals' , 'ZVals']]\n",
    "data.head()"
   ]
  },
  {
   "cell_type": "code",
   "execution_count": 12,
   "metadata": {},
   "outputs": [
    {
     "name": "stdout",
     "output_type": "stream",
     "text": [
      "Data writen  to out.txt\n"
     ]
    }
   ],
   "source": [
    "file ='out.txt'\n",
    "df[['YVals' , 'ZVals']][10:16].to_csv(file)\n",
    "print('Data writen  to {0}' .format(file))\n"
   ]
  },
  {
   "cell_type": "code",
   "execution_count": null,
   "metadata": {},
   "outputs": [],
   "source": []
  }
 ],
 "metadata": {
  "kernelspec": {
   "display_name": "Python 3",
   "language": "python",
   "name": "python3"
  },
  "language_info": {
   "codemirror_mode": {
    "name": "ipython",
    "version": 3
   },
   "file_extension": ".py",
   "mimetype": "text/x-python",
   "name": "python",
   "nbconvert_exporter": "python",
   "pygments_lexer": "ipython3",
   "version": "3.7.1"
  }
 },
 "nbformat": 4,
 "nbformat_minor": 2
}
